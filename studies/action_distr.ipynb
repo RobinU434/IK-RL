{
 "cells": [
  {
   "cell_type": "code",
   "execution_count": 1,
   "metadata": {},
   "outputs": [],
   "source": [
    "import pandas as pd\n",
    "import matplotlib.pyplot as plt"
   ]
  },
  {
   "cell_type": "code",
   "execution_count": 2,
   "metadata": {},
   "outputs": [
    {
     "data": {
      "text/html": [
       "<div>\n",
       "<style scoped>\n",
       "    .dataframe tbody tr th:only-of-type {\n",
       "        vertical-align: middle;\n",
       "    }\n",
       "\n",
       "    .dataframe tbody tr th {\n",
       "        vertical-align: top;\n",
       "    }\n",
       "\n",
       "    .dataframe thead th {\n",
       "        text-align: right;\n",
       "    }\n",
       "</style>\n",
       "<table border=\"1\" class=\"dataframe\">\n",
       "  <thead>\n",
       "    <tr style=\"text-align: right;\">\n",
       "      <th></th>\n",
       "      <th>Unnamed: 0</th>\n",
       "      <th>entity</th>\n",
       "      <th>y</th>\n",
       "      <th>x0</th>\n",
       "      <th>x1</th>\n",
       "      <th>time</th>\n",
       "    </tr>\n",
       "  </thead>\n",
       "  <tbody>\n",
       "    <tr>\n",
       "      <th>0</th>\n",
       "      <td>0</td>\n",
       "      <td>state</td>\n",
       "      <td>[0.48491402 0.7166127  0.79374387 0.01131829 5...</td>\n",
       "      <td>0</td>\n",
       "      <td>1</td>\n",
       "      <td>1.676457e+09</td>\n",
       "    </tr>\n",
       "    <tr>\n",
       "      <th>1</th>\n",
       "      <td>1</td>\n",
       "      <td>action</td>\n",
       "      <td>[-0.9251660108566284, -0.387098103761673, 0.61...</td>\n",
       "      <td>0</td>\n",
       "      <td>1</td>\n",
       "      <td>1.676457e+09</td>\n",
       "    </tr>\n",
       "    <tr>\n",
       "      <th>2</th>\n",
       "      <td>2</td>\n",
       "      <td>reward</td>\n",
       "      <td>-0.3849727564551949</td>\n",
       "      <td>0</td>\n",
       "      <td>1</td>\n",
       "      <td>1.676457e+09</td>\n",
       "    </tr>\n",
       "    <tr>\n",
       "      <th>3</th>\n",
       "      <td>3</td>\n",
       "      <td>s_prime</td>\n",
       "      <td>[0.48491402 0.7166127  0.79374387 0.01131829 5...</td>\n",
       "      <td>0</td>\n",
       "      <td>1</td>\n",
       "      <td>1.676457e+09</td>\n",
       "    </tr>\n",
       "    <tr>\n",
       "      <th>4</th>\n",
       "      <td>4</td>\n",
       "      <td>done</td>\n",
       "      <td>False</td>\n",
       "      <td>0</td>\n",
       "      <td>1</td>\n",
       "      <td>1.676457e+09</td>\n",
       "    </tr>\n",
       "  </tbody>\n",
       "</table>\n",
       "</div>"
      ],
      "text/plain": [
       "   Unnamed: 0   entity                                                  y  x0  \\\n",
       "0           0    state  [0.48491402 0.7166127  0.79374387 0.01131829 5...   0   \n",
       "1           1   action  [-0.9251660108566284, -0.387098103761673, 0.61...   0   \n",
       "2           2   reward                                -0.3849727564551949   0   \n",
       "3           3  s_prime  [0.48491402 0.7166127  0.79374387 0.01131829 5...   0   \n",
       "4           4     done                                              False   0   \n",
       "\n",
       "   x1          time  \n",
       "0   1  1.676457e+09  \n",
       "1   1  1.676457e+09  \n",
       "2   1  1.676457e+09  \n",
       "3   1  1.676457e+09  \n",
       "4   1  1.676457e+09  "
      ]
     },
     "execution_count": 2,
     "metadata": {},
     "output_type": "execute_result"
    }
   ],
   "source": [
    "data = pd.read_csv(\"results/sac/test/10_16356017923407043426/trajectory.csv\")\n",
    "\n",
    "data.head()"
   ]
  },
  {
   "cell_type": "code",
   "execution_count": 10,
   "metadata": {},
   "outputs": [
    {
     "data": {
      "text/plain": [
       "(array([1695.,  832.,  477.,  548.,  331.,  351.,  413.,  490.,  525.,\n",
       "         631.,  767.,  820.,  872.,  826.,  874., 1193., 1137., 1203.,\n",
       "        1330., 1366., 1589., 1723., 2156., 2013., 2273., 2163., 2354.,\n",
       "        2589., 2570., 2640., 2625., 2735., 2688., 2578., 2684., 2607.,\n",
       "        2763., 2749., 3046., 3114., 3451., 3266., 3311., 3013., 2990.,\n",
       "        3205., 3267., 2788., 2743., 2676.]),\n",
       " array([-9.99879599e-01, -9.59909052e-01, -9.19938505e-01, -8.79967958e-01,\n",
       "        -8.39997411e-01, -8.00026864e-01, -7.60056317e-01, -7.20085770e-01,\n",
       "        -6.80115223e-01, -6.40144676e-01, -6.00174129e-01, -5.60203582e-01,\n",
       "        -5.20233035e-01, -4.80262488e-01, -4.40291941e-01, -4.00321394e-01,\n",
       "        -3.60350847e-01, -3.20380300e-01, -2.80409753e-01, -2.40439206e-01,\n",
       "        -2.00468659e-01, -1.60498112e-01, -1.20527565e-01, -8.05570185e-02,\n",
       "        -4.05864716e-02, -6.15924597e-04,  3.93546224e-02,  7.93251693e-02,\n",
       "         1.19295716e-01,  1.59266263e-01,  1.99236810e-01,  2.39207357e-01,\n",
       "         2.79177904e-01,  3.19148451e-01,  3.59118998e-01,  3.99089545e-01,\n",
       "         4.39060092e-01,  4.79030639e-01,  5.19001186e-01,  5.58971733e-01,\n",
       "         5.98942280e-01,  6.38912827e-01,  6.78883374e-01,  7.18853921e-01,\n",
       "         7.58824468e-01,  7.98795015e-01,  8.38765562e-01,  8.78736109e-01,\n",
       "         9.18706656e-01,  9.58677202e-01,  9.98647749e-01]),\n",
       " <BarContainer object of 50 artists>)"
      ]
     },
     "execution_count": 10,
     "metadata": {},
     "output_type": "execute_result"
    },
    {
     "data": {
      "image/png": "[encoded data removed]",
      "text/plain": [
       "<Figure size 640x480 with 1 Axes>"
      ]
     },
     "metadata": {},
     "output_type": "display_data"
    }
   ],
   "source": [
    "actions = data[data[\"entity\"] == \"action\"]\n",
    "type(actions[\"y\"].iloc[0])\n",
    "action = actions[\"y\"].iloc[0]\n",
    "\n",
    "\n",
    "def str2list(action):\n",
    "    action = action[1:]\n",
    "    action = action[:-1]\n",
    "    action = action.split(\", \")\n",
    "    return list(map(lambda x: float(x), action))\n",
    "\n",
    "action_distr = []\n",
    "\n",
    "for action in actions[\"y\"]:\n",
    "    action_distr.extend(str2list(action))\n",
    "\n",
    "plt.hist(action_distr, bins=50)"
   ]
  }
 ],
 "metadata": {
  "kernelspec": {
   "display_name": "CRL",
   "language": "python",
   "name": "python3"
  },
  "language_info": {
   "codemirror_mode": {
    "name": "ipython",
    "version": 3
   },
   "file_extension": ".py",
   "mimetype": "text/x-python",
   "name": "python",
   "nbconvert_exporter": "python",
   "pygments_lexer": "ipython3",
   "version": "3.8.15"
  },
  "orig_nbformat": 4,
  "vscode": {
   "interpreter": {
    "hash": "59ff37a19ed210ff4f73fe92c04d8ea9551f70c010b27b0184019f58952eae53"
   }
  }
 },
 "nbformat": 4,
 "nbformat_minor": 2
}
